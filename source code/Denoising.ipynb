{
 "cells": [
  {
   "cell_type": "code",
   "execution_count": 1,
   "metadata": {
    "id": "7astgff11v9g"
   },
   "outputs": [],
   "source": [
    "import os\n",
    "import sys\n",
    "import numpy as np\n",
    "import matplotlib.pyplot as plt\n",
    "%matplotlib inline\n",
    "import librosa\n",
    "import torch\n",
    "import torchvision\n",
    "import torchvision.transforms as transforms\n",
    "from IPython import display\n",
    "\n",
    "import torch.nn as nn\n",
    "import torch.nn.functional as F\n",
    "import torch.optim as optim\n",
    "import zipfile as zf\n",
    "import io"
   ]
  },
  {
   "cell_type": "code",
   "execution_count": null,
   "metadata": {
    "id": "gIHjjE2x7fbL"
   },
   "outputs": [],
   "source": [
    "\n",
    "# # if dataset zipped\n",
    "zf = zf.ZipFile(\"denoising2.zip\", 'r')\n",
    "zf.extractall()"
   ]
  },
  {
   "cell_type": "code",
   "execution_count": null,
   "metadata": {
    "id": "E2A158fx59nG"
   },
   "outputs": [],
   "source": [
    "device = torch.device('cuda:0')\n"
   ]
  },
  {
   "cell_type": "code",
   "execution_count": 2,
   "metadata": {
    "id": "iAoPxisf2ZLL"
   },
   "outputs": [],
   "source": [
    "class IBlock(nn.Module):\n",
    "    def __init__(self, out_channels,in_channels=None):\n",
    "        \"\"\"\n",
    "        Intermediate block in UNet\n",
    "        Args:\n",
    "          in_channels (int):  Number of input channels.\n",
    "        \"\"\"\n",
    "        super(IBlock, self).__init__()\n",
    "        # variable number of in_channels, if different than out_channels specify.\n",
    "        self.in_channels=in_channels if in_channels else out_channels \n",
    "        self.unit1 = nn.Sequential(nn.Conv2d(in_channels=self.in_channels, \n",
    "                                             out_channels=out_channels,\n",
    "                                            kernel_size=3,padding=1), \n",
    "                                   nn.ELU())\n",
    "        self.unit2 = nn.Sequential(nn.Conv2d(in_channels=self.in_channels+out_channels, \n",
    "                                             out_channels=out_channels,\n",
    "                                            kernel_size=3,padding=1), \n",
    "                                   nn.ELU())\n",
    "        self.unit3 = nn.Sequential(nn.Conv2d(in_channels=self.in_channels+2*out_channels, \n",
    "                                             out_channels=out_channels,\n",
    "                                            kernel_size=3,padding=1), \n",
    "                                   nn.ELU())\n",
    "        self.skip =   nn.Conv2d(in_channels=self.in_channels, out_channels=out_channels,\n",
    "                                            kernel_size=3,padding=1) \n",
    "                              \n",
    "    def forward(self, x):\n",
    "        # YOUR CODE HERE\n",
    "        out_layer1 = self.unit1(x)\n",
    "        # skip layer2, concatenate along channels\n",
    "        inp_layer2 = torch.cat((out_layer1,x),1)\n",
    "        out_layer2 = self.unit2(inp_layer2)\n",
    "        # skip layer3\n",
    "        inp_layer3 = torch.cat((out_layer2, out_layer1,x),1)\n",
    "        out_layer3 = self.unit3(inp_layer3)\n",
    "        yskip = self.skip(x)\n",
    "        out = yskip + out_layer3\n",
    "        return out\n",
    "            "
   ]
  },
  {
   "cell_type": "code",
   "execution_count": null,
   "metadata": {
    "id": "X5OU6tj6BSe_"
   },
   "outputs": [],
   "source": [
    "# check IBlock works\n",
    "# x = torch.zeros(32,24,100,100)\n",
    "# i = IBlock(12,24)\n",
    "# out = i(x)\n",
    "# out.shape"
   ]
  },
  {
   "cell_type": "code",
   "execution_count": 3,
   "metadata": {
    "id": "FZ7ruPQTmfmq"
   },
   "outputs": [],
   "source": [
    "class decoderBlock(nn.Module):\n",
    "    def __init__(self, in_channels,out_channels, out_conv=None):\n",
    "        \"\"\"\n",
    "        Intermediate block in UNet\n",
    "        Args:\n",
    "          in_channels (int):  Number of input channels.\n",
    "        \"\"\"\n",
    "        super(decoderBlock, self).__init__()\n",
    "        if out_conv:\n",
    "          self.model = nn.Sequential(IBlock(out_channels,in_channels),\n",
    "                                      nn.ConvTranspose2d(in_channels=out_channels, out_channels=out_conv,\n",
    "                                              kernel_size=4,padding=1, stride=2)) \n",
    "        else:\n",
    "          self.model=IBlock(out_channels,in_channels)\n",
    "                              \n",
    "    def forward(self, x, skip):\n",
    "        inp = torch.cat((x, skip),1)\n",
    "        return self.model(inp)"
   ]
  },
  {
   "cell_type": "code",
   "execution_count": 4,
   "metadata": {
    "id": "uWNOsfVRDGrD"
   },
   "outputs": [],
   "source": [
    "class UNet(nn.Module):\n",
    "    def __init__(self,in_channels=32,N=32):\n",
    "        \"\"\"\n",
    "        Intermediate block in UNet\n",
    "        Args:\n",
    "          in_channels (int):  Number of input channels.\n",
    "        \"\"\"\n",
    "        super(UNet, self).__init__()\n",
    "        # encoder part (important- make sure input dims 2,3 are power of 2)\n",
    "        self.block1 = IBlock(N,in_channels)\n",
    "        self.block2 = nn.Sequential(nn.Conv2d(in_channels=N, out_channels=2*N,\n",
    "                                            kernel_size=4,padding=1, stride=2),\n",
    "                                    IBlock(2*N))       \n",
    "        self.block3 = nn.Sequential(nn.Conv2d(in_channels=2*N, out_channels=2*N,\n",
    "                                            kernel_size=4,padding=1, stride=2),\n",
    "                                    IBlock(2*N))       \n",
    "        self.block4 = nn.Sequential(nn.Conv2d(in_channels=2*N, out_channels=4*N,\n",
    "                                            kernel_size=4,padding=1, stride=2),\n",
    "                                    IBlock(4*N))\n",
    "        self.block5 = nn.Sequential(nn.Conv2d(in_channels=4*N, out_channels=4*N,\n",
    "                                            kernel_size=4,padding=1, stride=2),\n",
    "                                    IBlock(4*N), \n",
    "                                    nn.ConvTranspose2d(in_channels=4*N, out_channels=4*N,\n",
    "                                            kernel_size=4,padding=1, stride=2))\n",
    "        # decoder part\n",
    "        self.block6 = decoderBlock(8*N,4*N,2*N)\n",
    "        self.block7=decoderBlock(4*N,4*N,2*N)\n",
    "        self.block8 = decoderBlock(4*N,2*N,N)\n",
    "        # no more up-sampling\n",
    "        self.block9 = decoderBlock(2*N, N)\n",
    "\n",
    "    def forward(self, x):\n",
    "        out_layer1 = self.block1(x)\n",
    "        out_layer2 = self.block2(out_layer1)\n",
    "        out_layer3 = self.block3(out_layer2)\n",
    "        out_layer4 = self.block4(out_layer3)\n",
    "        out_layer5 = self.block5(out_layer4)\n",
    "        out_layer6 = self.block6(out_layer5,out_layer4)\n",
    "        out_layer7 = self.block7(out_layer6,out_layer3)\n",
    "        out_layer8 = self.block8(out_layer7,out_layer2)\n",
    "        out = self.block9(out_layer8,out_layer1)\n",
    "        return out"
   ]
  },
  {
   "cell_type": "code",
   "execution_count": 5,
   "metadata": {
    "id": "DbuDbift7tjR"
   },
   "outputs": [],
   "source": [
    "class smallModel(nn.Module):\n",
    "      def __init__(self, in_channels=12):\n",
    "        \"\"\"\n",
    "        Intermediate block in UNet\n",
    "        Args:\n",
    "          in_channels (int):  Number of input channels.\n",
    "        \"\"\"\n",
    "        super(smallModel, self).__init__()\n",
    "        self.early1 = nn.Sequential(nn.Conv2d(in_channels=in_channels, \n",
    "                                             out_channels=32,\n",
    "                                            kernel_size=7,padding=3), \n",
    "                                   nn.ELU())\n",
    "        # self.early2 = nn.Sequential(nn.Conv2d(in_channels=in_channels, \n",
    "        #                                      out_channels=32,\n",
    "        #                                     kernel_size=7,padding=3), \n",
    "        #                            nn.ELU())\n",
    "        # self.conv1 = nn.Conv2d(in_channels=32, \n",
    "        #                                      out_channels=32,\n",
    "        #                                     kernel_size=1)\n",
    "        self.conv2 = nn.Conv2d(in_channels=32, \n",
    "                                             out_channels=2,\n",
    "                                            kernel_size=3,padding=1)\n",
    "        # self.conv3 = nn.Sequential(nn.Conv2d(in_channels=2, \n",
    "        #                                      out_channels=32,\n",
    "        #                                     kernel_size=1), nn.Sigmoid())\n",
    "        # self.convLast = nn.Conv2d(in_channels=32, \n",
    "        #                                      out_channels=2,\n",
    "        #                                     kernel_size=3,padding=1)\n",
    "        \n",
    "        # two objects for separate training?\n",
    "        self.stage1 = UNet()\n",
    "        # self.stage2 = UNet(in_channels=64)\n",
    "\n",
    "      def forward(self, x):\n",
    "        early1Out = self.early1(x)\n",
    "        # early2Out = self.early2(x)\n",
    "        stage1Out = self.stage1(early1Out)  \n",
    "        # skip1 = self.conv1(stage1Out)\n",
    "        conv2Out = self.conv2(stage1Out)\n",
    "        out = x[:,:2] + conv2Out\n",
    "        # conv3Out = self.conv3(out1)\n",
    "        # multiplied = conv3Out * skip1\n",
    "        # added = multiplied + stage1Out\n",
    "        # concated = torch.cat((added,early2Out),dim=1)\n",
    "        # stage2Out = self.stage2(concated)\n",
    "        # out2 = self.convLast(stage2Out)\n",
    "        return out\n",
    "        # return out1"
   ]
  },
  {
   "cell_type": "code",
   "execution_count": null,
   "metadata": {
    "id": "8ugC8kdgnFBQ"
   },
   "outputs": [],
   "source": [
    "def compute_accuracy_small(net, testloader):\n",
    "    loss_test_fn = nn.L1Loss()\n",
    "    # loss2_test_fn = nn.L1Loss()\n",
    "    net.eval()\n",
    "    total = 0\n",
    "    with torch.no_grad():\n",
    "        for samples, labels in testloader:\n",
    "            samples, labels = samples.to(device), labels.to(device)\n",
    "            outputs = net(samples)\n",
    "            loss_test = loss_test_fn(outputs,labels)\n",
    "\n",
    "            total += loss_test.item()\n",
    "\n",
    "\n",
    "    return total/(len(testloader)/len(samples))"
   ]
  },
  {
   "cell_type": "code",
   "execution_count": null,
   "metadata": {
    "id": "TSpUlqk_nwuE"
   },
   "outputs": [],
   "source": [
    "class CustomDataset(torch.utils.data.Dataset):\n",
    "    def __init__(self,samplesDir,labelsDir,samp_num=None):\n",
    "        self.separator1='_'\n",
    "        self.suffix = '.ogg'\n",
    "        self.separator2='__'\n",
    "        self.fs=None\n",
    "        self.sampDir=samplesDir\n",
    "        self.labelsDir=labelsDir\n",
    "        self.samples=[]\n",
    "        self.labels=[]\n",
    "        self.len=samp_num\n",
    "        self.n_fft=1024\n",
    "        self.frames_num=128 \n",
    "        self.frames=None\n",
    "\n",
    "#         keep track of file paths\n",
    "        for s in os.listdir(self.sampDir):\n",
    "#             e.g. 'Rooster'\n",
    "            # label_class = s[:s.find(self.separator)]\n",
    "#             e.g. '1-26806-A.ogg'\n",
    "            label_name = s[s.find(self.separator1)+1:s.rfind(self.separator2)]\n",
    "#             e.g. 'denoising2/Rooster_test/1-26806-A.ogg'\n",
    "            label_path = os.path.join(self.labelsDir, label_name+self.suffix)\n",
    "                \n",
    "            sample_path = os.path.join(self.sampDir,s)\n",
    "            self.samples.append(sample_path)\n",
    "            self.labels.append(label_path)\n",
    "        # take 100 random samples\n",
    "        if self.len is not None:\n",
    "          inds = torch.randint(len(self.samples),(self.len,))\n",
    "          self.samples = [self.samples[ind] for ind in inds]  \n",
    "          self.labels = [self.labels[ind] for ind in inds] \n",
    "\n",
    "    def __getitem__(self, index):\n",
    "        sample, fs = librosa.load(self.samples[index])\n",
    "        if self.fs is None or self.fs!=fs:\n",
    "            self.fs=fs\n",
    "        label, _ = librosa.load(self.labels[index])\n",
    "        return self._prepareSample(sample), self._prepareLabel(label)\n",
    "    \n",
    "    def __len__(self):\n",
    "        return self.len if self.len is not None else \\\n",
    "        sum(len(files) for _, _, files in os.walk(self.sampDir)) \n",
    "    def _prepareSample(self,data):\n",
    "        \"\"\"\n",
    "        convert to 12-channel STFT input \n",
    "        \"\"\"\n",
    "        tens = torch.Tensor(data)\n",
    "        stftData =  torch.view_as_real(torch.stft(tens,n_fft=self.n_fft,\n",
    "                                                  window=torch.hamming_window(self.n_fft),return_complex=True))\n",
    "        # choose random frames from sample\n",
    "        self.frames = torch.randint(stftData.size(dim=1), (self.frames_num,))\n",
    "        # add frames for power of two number\n",
    "        # toConcat = np.int_(2**(np.ceil(np.log2(stftData.size(dim=1)))) - stftData.size(dim=1))\n",
    "        # extraFrames = torch.zeros(stftData.size(dim=0),toConcat,stftData.size(dim=2))\n",
    "        stftData = stftData[:,self.frames,:]\n",
    "        # stftData = torch.cat((stftData,extraFrames),1)\n",
    "        freqVect= np.arange(self.n_fft/2+1)*self.fs/self.n_fft\n",
    "        numChannels = 12\n",
    "      # newTens.shape = (channels,frames,freq)\n",
    "        newTens = torch.zeros([numChannels, stftData.shape[1],stftData.shape[0]])\n",
    "        newTens[:2,:,:]=stftData.permute(*torch.arange(stftData.ndim - 1, -1, -1))\n",
    "        posEmbeds = torch.FloatTensor([[np.cos(2**i*np.pi*f/self.fs) for i in range(10)]\n",
    "                                     for f in freqVect])\n",
    "        fullSize = posEmbeds.T.unsqueeze(1).repeat(1, stftData.shape[1], 1)\n",
    "        newTens[2:,:,:]=fullSize\n",
    "#         need 1024 bins\n",
    "        return newTens[:,:,:-1]\n",
    "\n",
    "    def _prepareLabel(self,data):\n",
    "        \"\"\"\n",
    "        convert to 12-channel STFT input \n",
    "        \"\"\"\n",
    "        toMono = np.sum(data,axis=1) if data.ndim>1 else data\n",
    "        tens = torch.Tensor(toMono)\n",
    "        stftData =  torch.view_as_real(torch.stft(tens,n_fft=self.n_fft,\n",
    "                                                  window=torch.hamming_window(self.n_fft),return_complex=True))\n",
    "        stftData = stftData.permute(*torch.arange(stftData.ndim - 1, -1, -1))\n",
    "        return stftData[:,self.frames,:-1]\n",
    " \n",
    "test_path = \"denoising2/mix_test\"\n",
    "train_path = \"denoising2/mix_train\"\n",
    "test_labels_path = \"denoising2/Rooster_test\"\n",
    "train_labels_path = \"denoising2/Rooster_train\"\n",
    "train_data = CustomDataset(train_path,train_labels_path)\n",
    "test_data = CustomDataset(test_path,test_labels_path)\n",
    "train_loader = torch.utils.data.DataLoader(dataset=train_data,\n",
    "                                           batch_size=6, \n",
    "                                           shuffle=True)\n",
    "test_loader = torch.utils.data.DataLoader(dataset=test_data,\n",
    "                                           batch_size=6, \n",
    "                                           shuffle=True)"
   ]
  },
  {
   "cell_type": "code",
   "source": [
    "model = Model()\n",
    "sum(p.numel() for p in model.parameters() if p.requires_grad)\n"
   ],
   "metadata": {
    "colab": {
     "base_uri": "https://localhost:8080/"
    },
    "id": "GMkA5TdgpWAc",
    "outputId": "28c4dee4-e2df-4a06-ac64-1fa27fa7abdb"
   },
   "execution_count": 8,
   "outputs": [
    {
     "output_type": "execute_result",
     "data": {
      "text/plain": [
       "13793668"
      ]
     },
     "metadata": {},
     "execution_count": 8
    }
   ]
  },
  {
   "cell_type": "code",
   "execution_count": null,
   "metadata": {
    "colab": {
     "base_uri": "https://localhost:8080/"
    },
    "id": "uFTfyrKvnaEB",
    "outputId": "ef9288aa-3263-48be-bdc1-4dae86518f90"
   },
   "outputs": [
    {
     "output_type": "stream",
     "name": "stdout",
     "text": [
      "EPOCH 0, loss = 0.515369\n",
      "EPOCH 1, loss = 0.403450\n",
      "EPOCH 2, loss = 0.297597\n",
      "EPOCH 3, loss = 0.385138\n",
      "EPOCH 4, loss = 0.276030\n",
      "EPOCH 5, loss = 0.310634\n",
      "EPOCH 6, loss = 0.272701\n",
      "EPOCH 7, loss = 0.279281\n",
      "EPOCH 8, loss = 0.216610\n",
      "EPOCH 9, loss = 0.251148\n",
      "EPOCH 10, loss = 0.275192\n",
      "EPOCH 11, loss = 0.286641\n",
      "EPOCH 12, loss = 0.215113\n",
      "EPOCH 13, loss = 0.259183\n",
      "EPOCH 14, loss = 0.242073\n",
      "EPOCH 15, loss = 0.262185\n",
      "EPOCH 16, loss = 0.267230\n",
      "EPOCH 17, loss = 0.268138\n",
      "EPOCH 18, loss = 0.191709\n",
      "EPOCH 19, loss = 0.212809\n",
      "EPOCH 20, loss = 0.162298\n",
      "EPOCH 21, loss = 0.283165\n",
      "EPOCH 22, loss = 0.248693\n",
      "EPOCH 23, loss = 0.295533\n",
      "EPOCH 24, loss = 0.234313\n",
      "EPOCH 25, loss = 0.203688\n",
      "EPOCH 26, loss = 0.205677\n",
      "EPOCH 27, loss = 0.239032\n",
      "EPOCH 28, loss = 0.220883\n",
      "EPOCH 29, loss = 0.239223\n",
      "EPOCH 30, loss = 0.196068\n",
      "EPOCH 31, loss = 0.223069\n",
      "EPOCH 32, loss = 0.257169\n",
      "EPOCH 33, loss = 0.222604\n",
      "EPOCH 34, loss = 0.248007\n",
      "EPOCH 35, loss = 0.244784\n",
      "EPOCH 36, loss = 0.184141\n",
      "EPOCH 37, loss = 0.227716\n",
      "EPOCH 38, loss = 0.168169\n",
      "EPOCH 39, loss = 0.167093\n",
      "EPOCH 40, loss = 0.148914\n",
      "EPOCH 41, loss = 0.187607\n",
      "EPOCH 42, loss = 0.221024\n",
      "EPOCH 43, loss = 0.223105\n",
      "EPOCH 44, loss = 0.200339\n",
      "EPOCH 45, loss = 0.171384\n",
      "EPOCH 46, loss = 0.186918\n",
      "EPOCH 47, loss = 0.208541\n",
      "EPOCH 48, loss = 0.168541\n",
      "EPOCH 49, loss = 0.198413\n"
     ]
    }
   ],
   "source": [
    "m = smallModel().to(device)\n",
    "m.train()\n",
    "\n",
    "optimizer = torch.optim.Adam(m.parameters(), lr=0.0005,betas=(0.7, 0.9))\n",
    "loss_fn =  nn.L1Loss()\n",
    "training_loss = []\n",
    "test_loss = []\n",
    "# loss2_fn =  nn.L1Loss()\n",
    "\n",
    "EPOCHS = 50\n",
    "device = torch.device(\"cuda:0\" if torch.cuda.is_available() else \"cpu\")\n",
    "path = os.path.join('', 'smallModel.pth')\n",
    "\n",
    "for epoch in range(EPOCHS):\n",
    "        m.train()\n",
    "        for train_sample, train_label in train_loader:\n",
    "          train_sample, train_label = train_sample.to(device), train_label.to(device)\n",
    "        \n",
    "          optimizer.zero_grad()\n",
    "  #     forward pass\n",
    "          out = m(train_sample)\n",
    "          out = out.to(device)\n",
    "          frame_size = train_label.size(dim=2)\n",
    "  #     compute loss\n",
    "          loss = loss_fn(out,train_label) \n",
    "          # loss2 = loss2_fn(out2,train_label)\n",
    "          # loss = loss1 + loss2\n",
    "  #     backpropagate gradients\n",
    "          loss.backward()\n",
    "          # loss1.backward()\n",
    "  #     do gradient step\n",
    "          optimizer.step()\n",
    "        print(\"EPOCH %d, loss = %f\" % (epoch, loss))\n",
    "        training_loss.append(loss.item())\n",
    "        loss_test = compute_accuracy_small(m,test_loader)\n",
    "        test_loss.append(loss_test)\n",
    "        if loss_test == min(test_loss):\n",
    "          torch.save(m.cpu().state_dict(), path) # saving model\n",
    "        m.cuda()"
   ]
  },
  {
   "cell_type": "code",
   "execution_count": null,
   "metadata": {
    "colab": {
     "base_uri": "https://localhost:8080/",
     "height": 447
    },
    "id": "3vSupoT5svZ7",
    "outputId": "129e6276-63db-427e-e01f-72cff2263189"
   },
   "outputs": [
    {
     "output_type": "execute_result",
     "data": {
      "text/plain": [
       "<matplotlib.legend.Legend at 0x7fd0dbdc9190>"
      ]
     },
     "metadata": {},
     "execution_count": 36
    },
    {
     "output_type": "display_data",
     "data": {
      "text/plain": [
       "<Figure size 640x480 with 1 Axes>"
      ],
      "image/png": "[encoded data removed]"
     },
     "metadata": {}
    }
   ],
   "source": [
    "fig, ax = plt.subplots(1)\n",
    "training_vis = [torch.Tensor([t]).cpu().detach().numpy() for t in training_loss]\n",
    "test_vis = [torch.Tensor([t]).cpu().detach().numpy() for t in test_loss]\n",
    "test_min = min(test_vis)\n",
    "ax.axhline(y=test_min,linestyle = '--') \n",
    "ax.set_yscale('log')\n",
    "ax.plot(training_vis)\n",
    "ax.plot(test_vis)\n",
    "plt.legend(['train error', 'test error','test error min = %.2f' % test_min])"
   ]
  },
  {
   "cell_type": "code",
   "execution_count": 7,
   "metadata": {
    "id": "fneVZD638MFo"
   },
   "outputs": [],
   "source": [
    "class Model(nn.Module):\n",
    "      def __init__(self, in_channels=12):\n",
    "        \"\"\"\n",
    "        Intermediate block in UNet\n",
    "        Args:\n",
    "          in_channels (int):  Number of input channels.\n",
    "        \"\"\"\n",
    "        super(Model, self).__init__()\n",
    "        self.early1 = nn.Sequential(nn.Conv2d(in_channels=in_channels, \n",
    "                                             out_channels=32,\n",
    "                                            kernel_size=7,padding=3), \n",
    "                                   nn.ELU())\n",
    "        self.early2 = nn.Sequential(nn.Conv2d(in_channels=in_channels, \n",
    "                                             out_channels=32,\n",
    "                                            kernel_size=7,padding=3), \n",
    "                                   nn.ELU())\n",
    "        self.conv1 = nn.Conv2d(in_channels=32, \n",
    "                                             out_channels=32,\n",
    "                                            kernel_size=1)\n",
    "        self.conv2 = nn.Conv2d(in_channels=32, \n",
    "                                             out_channels=2,\n",
    "                                            kernel_size=3,padding=1)\n",
    "        self.conv3 = nn.Sequential(nn.Conv2d(in_channels=2, \n",
    "                                             out_channels=32,\n",
    "                                            kernel_size=1), nn.Sigmoid())\n",
    "        self.convLast = nn.Conv2d(in_channels=32, \n",
    "                                             out_channels=2,\n",
    "                                            kernel_size=3,padding=1)\n",
    "        \n",
    "        # two objects for separate training?\n",
    "        self.stage1 = UNet()\n",
    "        self.stage2 = UNet(in_channels=64)\n",
    "\n",
    "      def forward(self, x):\n",
    "        early1Out = self.early1(x)\n",
    "        early2Out = self.early2(x)\n",
    "        stage1Out = self.stage1(early1Out)  \n",
    "        skip1 = self.conv1(stage1Out)\n",
    "        conv2Out = self.conv2(stage1Out)\n",
    "        out1 = x[:,:2] + conv2Out\n",
    "        conv3Out = self.conv3(out1)\n",
    "        multiplied = conv3Out * skip1\n",
    "        added = multiplied + stage1Out\n",
    "        concated = torch.cat((added,early2Out),dim=1)\n",
    "        stage2Out = self.stage2(concated)\n",
    "        out2 = self.convLast(stage2Out)\n",
    "        return out1, out2\n",
    "        # return out1"
   ]
  },
  {
   "cell_type": "code",
   "execution_count": null,
   "metadata": {
    "id": "0wo8sKUJIQKl"
   },
   "outputs": [],
   "source": [
    "# sample, fs = librosa.load('ido_piano.wav')\n",
    "# n_fft = 512\n",
    "# tens = torch.Tensor(sample)\n",
    "# stftData =  torch.view_as_real(torch.stft(tens,n_fft=n_fft,\n",
    "#                                           window=torch.hamming_window(n_fft),return_complex=True))\n",
    "# stftData.shape\n",
    "# frames = torch.randint(stftData.size(dim=1), (128,))\n",
    "# next(iter(test_loader))\n",
    "# next(iter(test_loader))\n",
    "# !rmdir denoising2/mix_test/\".ipynb_checkpoints\"\n",
    "# !rmdir denoising2/mix_train/\".ipynb_checkpoints\"\n",
    "def compute_accuracy(net, testloader):\n",
    "    loss1_test_fn = nn.L1Loss()\n",
    "    loss2_test_fn = nn.L1Loss()\n",
    "    net.eval()\n",
    "    total = 0\n",
    "    with torch.no_grad():\n",
    "        for samples, labels in testloader:\n",
    "            samples, labels = samples.to(device), labels.to(device)\n",
    "            outputs1,outputs2 = net(samples)\n",
    "            loss1_test = loss1_test_fn(outputs1,labels)\n",
    "            loss2_test = loss2_test_fn(outputs2,labels)\n",
    "\n",
    "            total += loss2_test.item()\n",
    "\n",
    "\n",
    "    return total/(len(testloader)/len(samples))\n"
   ]
  },
  {
   "cell_type": "code",
   "execution_count": null,
   "metadata": {
    "colab": {
     "base_uri": "https://localhost:8080/"
    },
    "id": "p69bValjYYRR",
    "outputId": "13e9769a-f754-4fa5-92dd-f602bc161eda"
   },
   "outputs": [
    {
     "output_type": "stream",
     "name": "stdout",
     "text": [
      "EPOCH 0, loss = 0.190939\n",
      "EPOCH 1, loss = 0.144732\n",
      "EPOCH 2, loss = 0.231016\n",
      "EPOCH 3, loss = 0.139824\n",
      "EPOCH 4, loss = 0.200346\n",
      "EPOCH 5, loss = 0.260441\n",
      "EPOCH 6, loss = 0.171617\n",
      "EPOCH 7, loss = 0.217804\n",
      "EPOCH 8, loss = 0.210956\n",
      "EPOCH 9, loss = 0.202833\n",
      "EPOCH 10, loss = 0.191237\n",
      "EPOCH 11, loss = 0.243125\n",
      "EPOCH 12, loss = 0.196262\n",
      "EPOCH 13, loss = 0.141177\n",
      "EPOCH 14, loss = 0.292003\n",
      "EPOCH 15, loss = 0.157704\n",
      "EPOCH 16, loss = 0.231333\n",
      "EPOCH 17, loss = 0.199273\n",
      "EPOCH 18, loss = 0.178254\n",
      "EPOCH 19, loss = 0.152223\n",
      "EPOCH 20, loss = 0.223090\n",
      "EPOCH 21, loss = 0.174442\n",
      "EPOCH 22, loss = 0.176398\n",
      "EPOCH 23, loss = 0.174845\n",
      "EPOCH 24, loss = 0.198759\n",
      "EPOCH 25, loss = 0.195142\n",
      "EPOCH 26, loss = 0.148866\n",
      "EPOCH 27, loss = 0.179283\n",
      "EPOCH 28, loss = 0.273338\n",
      "EPOCH 29, loss = 0.190758\n",
      "EPOCH 30, loss = 0.215230\n",
      "EPOCH 31, loss = 0.189254\n",
      "EPOCH 32, loss = 0.200253\n",
      "EPOCH 33, loss = 0.170989\n",
      "EPOCH 34, loss = 0.186097\n",
      "EPOCH 35, loss = 0.196541\n",
      "EPOCH 36, loss = 0.144298\n",
      "EPOCH 37, loss = 0.118018\n",
      "EPOCH 38, loss = 0.152028\n",
      "EPOCH 39, loss = 0.206222\n",
      "EPOCH 40, loss = 0.190608\n",
      "EPOCH 41, loss = 0.137446\n",
      "EPOCH 42, loss = 0.157287\n",
      "EPOCH 43, loss = 0.171956\n",
      "EPOCH 44, loss = 0.184195\n",
      "EPOCH 45, loss = 0.147466\n",
      "EPOCH 46, loss = 0.147742\n",
      "EPOCH 47, loss = 0.104063\n",
      "EPOCH 48, loss = 0.099981\n",
      "EPOCH 49, loss = 0.129875\n"
     ]
    }
   ],
   "source": [
    "m = Model().to(device)\n",
    "m.train()\n",
    "\n",
    "optimizer = torch.optim.Adam(m.parameters(), lr=0.0005,betas=(0.7, 0.9))\n",
    "loss1_fn =  nn.L1Loss()\n",
    "training_loss = []\n",
    "test_loss = []\n",
    "loss2_fn =  nn.L1Loss()\n",
    "\n",
    "EPOCHS = 50\n",
    "device = torch.device(\"cuda:0\" if torch.cuda.is_available() else \"cpu\")\n",
    "path = os.path.join('', 'model.pth')\n",
    "\n",
    "for epoch in range(EPOCHS):\n",
    "        m.train()\n",
    "        for train_sample, train_label in train_loader:\n",
    "          train_sample, train_label = train_sample.to(device), train_label.to(device)\n",
    "        \n",
    "          optimizer.zero_grad()\n",
    "  #     forward pass\n",
    "          out1, out2 = m(train_sample)\n",
    "          out1, out2 = out1.to(device), out2.to(device)\n",
    "          frame_size = train_label.size(dim=2)\n",
    "  #     compute loss\n",
    "          loss1 = loss1_fn(out1,train_label) \n",
    "          loss2 = loss2_fn(out2,train_label)\n",
    "          loss = loss1 + loss2\n",
    "  #     backpropagate gradients\n",
    "          loss.backward()\n",
    "          # loss1.backward()\n",
    "  #     do gradient step\n",
    "          optimizer.step()\n",
    "        print(\"EPOCH %d, loss = %f\" % (epoch, loss2))\n",
    "        training_loss.append(loss2.item())\n",
    "        loss_test = compute_accuracy(m,test_loader)\n",
    "        test_loss.append(loss_test)\n",
    "        if loss_test == min(test_loss):\n",
    "          torch.save(m.cpu().state_dict(), path) # saving model\n",
    "        m.cuda()"
   ]
  },
  {
   "cell_type": "code",
   "source": [
    "rmdir denoising2/mix_test/.ipynb_checkpoints"
   ],
   "metadata": {
    "colab": {
     "base_uri": "https://localhost:8080/"
    },
    "id": "ogJNzZKwSc0o",
    "outputId": "e6a4eb9f-f69a-44b4-aacd-97391105cb8a"
   },
   "execution_count": null,
   "outputs": [
    {
     "output_type": "stream",
     "name": "stdout",
     "text": [
      "rmdir: failed to remove '/content/denosing2/mix_test/.ipynb_checkpoints': No such file or directory\n"
     ]
    }
   ]
  },
  {
   "cell_type": "code",
   "execution_count": null,
   "metadata": {
    "id": "uz5OHDsBTmLv"
   },
   "outputs": [],
   "source": [
    "# training_loss"
   ]
  },
  {
   "cell_type": "code",
   "execution_count": null,
   "metadata": {
    "id": "muy2K8-v50ex"
   },
   "outputs": [],
   "source": [
    "# import tensorflow as tf\n"
   ]
  },
  {
   "cell_type": "code",
   "execution_count": null,
   "metadata": {
    "colab": {
     "base_uri": "https://localhost:8080/",
     "height": 447
    },
    "id": "_KcnxDlEe2lA",
    "outputId": "5b77b451-0967-4e32-dc0b-6dfa4794b42c"
   },
   "outputs": [
    {
     "output_type": "execute_result",
     "data": {
      "text/plain": [
       "<matplotlib.legend.Legend at 0x7fd0dc58bac0>"
      ]
     },
     "metadata": {},
     "execution_count": 29
    },
    {
     "output_type": "display_data",
     "data": {
      "text/plain": [
       "<Figure size 640x480 with 1 Axes>"
      ],
      "image/png": "[encoded data removed]"
     },
     "metadata": {}
    }
   ],
   "source": [
    "fig, ax = plt.subplots(1)\n",
    "training_vis = [torch.Tensor([t]).cpu().detach().numpy() for t in training_loss]\n",
    "test_vis = [torch.Tensor([t]).cpu().detach().numpy() for t in test_loss]\n",
    "test_min = min(test_vis)\n",
    "ax.axhline(y=test_min,linestyle = '--') \n",
    "ax.set_yscale('log')\n",
    "ax.plot(training_vis)\n",
    "ax.plot(test_vis)\n",
    "plt.legend(['train error', 'test error','test error min = %.2f' % test_min])"
   ]
  },
  {
   "cell_type": "code",
   "execution_count": null,
   "metadata": {
    "id": "_ynEOgqguYF5"
   },
   "outputs": [],
   "source": [
    "# after training save model parameters\n",
    "# torch.save(m.state_dict(), 'model.pth')\n",
    "# test_loss"
   ]
  },
  {
   "cell_type": "code",
   "execution_count": null,
   "metadata": {
    "id": "GxooO9Oy1KLw"
   },
   "outputs": [],
   "source": [
    "def prepareSample(data,n_fft,fs):\n",
    "        \"\"\"\n",
    "        convert to 12-channel STFT input \n",
    "        \"\"\"\n",
    "        toMono = np.sum(data,axis=1) if data.ndim>1 else data\n",
    "        tens = torch.Tensor(toMono)\n",
    "        stftData =  torch.view_as_real(torch.stft(tens,n_fft=n_fft,\n",
    "                                                  window=torch.hamming_window(n_fft),return_complex=True))\n",
    "        # add frames for power of two number\n",
    "        toConcat = np.int_(2**(np.ceil(np.log2(stftData.size(dim=1)))) - stftData.size(dim=1))\n",
    "        extraFrames = torch.zeros(stftData.size(dim=0),toConcat,stftData.size(dim=2))\n",
    "        stftData = torch.cat((stftData,extraFrames),1)\n",
    "        freqVect= np.arange(n_fft/2+1)*fs/n_fft\n",
    "        numChannels = 12\n",
    "      # newTens.shape = (channels,frames,freq)\n",
    "        newTens = torch.zeros([numChannels, stftData.shape[1],stftData.shape[0]])\n",
    "        newTens[:2,:,:]=stftData.permute(*torch.arange(stftData.ndim - 1, -1, -1))\n",
    "        posEmbeds = torch.FloatTensor([[np.cos(2**i*np.pi*f/fs) for i in range(10)]\n",
    "                                     for f in freqVect])\n",
    "        fullSize = posEmbeds.T.unsqueeze(1).repeat(1, stftData.shape[1], 1)\n",
    "        newTens[2:,:,:]=fullSize\n",
    "#         need 1024 bins\n",
    "        return newTens[:,:,:-1]"
   ]
  },
  {
   "cell_type": "code",
   "execution_count": null,
   "metadata": {
    "id": "CgNCMBns0kTK"
   },
   "outputs": [],
   "source": [
    "import soundfile as sf\n",
    "# to run model on new sample\n",
    "model = smallModel()\n",
    "model.load_state_dict(torch.load('model.pth'))\n",
    "model.eval()\n",
    "model.to('cpu')\n",
    "# take random \n",
    "path= 'plane_rooster.ogg'\n",
    "# sample, fs = librosa.load(path)\n",
    "n_fft=2048\n",
    "frames = prepareSample(noisy,n_fft,fs)\n",
    "out = model(torch.unsqueeze(frames,0))\n",
    "out = torch.squeeze(out,0)\n",
    "out = out.permute(*torch.arange(out.ndim - 1, -1, -1))\n",
    "complexOut = torch.view_as_complex(out.contiguous())\n",
    "complexOut = torch.cat((complexOut,torch.zeros(1,complexOut.size(dim=1))),dim=0)\n",
    "complexOut.shape\n",
    "denoised = torch.istft(complexOut,n_fft=n_fft,window=torch.hamming_window(n_fft),\n",
    "                       return_complex=False)[:len(noisy)]\n",
    "denoised = denoised.detach().numpy()\n",
    "# display.Audio(denoised,rate=fs)\n",
    "DENOISED = 'denoised_'\n",
    "sep = '/'\n",
    "prefix, suffix = path[:path.rfind(sep)+1], path[path.rfind(sep)+1:]\n",
    "out_path = os.path.join(prefix,DENOISED+suffix)\n",
    "sf.write(out_path, denoised, fs)"
   ]
  },
  {
   "cell_type": "code",
   "source": [
    "def SNR(data,n_fft,fs):\n",
    "        \"\"\"\n",
    "        convert to 12-channel STFT input \n",
    "        \"\"\"\n",
    "        toMono = np.sum(data,axis=1) if data.ndim>1 else data\n",
    "        tens = torch.Tensor(toMono)\n",
    "        stftData =  torch.stft(tens,n_fft=n_fft,\n",
    "                                                  window=torch.hamming_window(n_fft),return_complex=True)\n",
    "        # add frames for power of two number\n",
    "        toConcat = np.int_(2**(np.ceil(np.log2(stftData.size(dim=1)))) - stftData.size(dim=1))\n",
    "        extraFrames = torch.zeros(stftData.size(dim=0),toConcat,stftData.size(dim=2))\n",
    "        stftData = torch.cat((stftData,extraFrames),1)\n",
    "        freqVect= np.arange(n_fft/2+1)*fs/n_fft\n",
    "        numChannels = 12\n",
    "      # newTens.shape = (channels,frames,freq)\n",
    "        newTens = torch.zeros([numChannels, stftData.shape[1],stftData.shape[0]])\n",
    "        newTens[:2,:,:]=stftData.permute(*torch.arange(stftData.ndim - 1, -1, -1))\n",
    "        posEmbeds = torch.FloatTensor([[np.cos(2**i*np.pi*f/fs) for i in range(10)]\n",
    "                                     for f in freqVect])\n",
    "        fullSize = posEmbeds.T.unsqueeze(1).repeat(1, stftData.shape[1], 1)\n",
    "        newTens[2:,:,:]=fullSize\n",
    "#         need 1024 bins\n",
    "        return newTens[:,:,:-1]"
   ],
   "metadata": {
    "id": "rmCF8ioHg1fZ"
   },
   "execution_count": null,
   "outputs": []
  },
  {
   "cell_type": "code",
   "source": [
    "# calculate SNR\n",
    "def forSNR(path,n_fft):\n",
    "  sample, _ = librosa.load(path)\n",
    "  tens = torch.Tensor(sample)\n",
    "  stftData =  torch.stft(tens,n_fft=n_fft, window=torch.hamming_window(n_fft),\n",
    "                         return_complex=True)\n",
    "  return stftData\n",
    "\n",
    "def compute_segSNR(stft1, stft2):\n",
    "  clean = torch.sum(torch.square(torch.abs(stft1)),dim=0)\n",
    "  error = torch.sum(torch.square(torch.abs(stft1-stft2)),dim=0)\n",
    "  divided = torch.div(clean,error)\n",
    "  todB = torch.div(divided,20e-6)\n",
    "  return torch.mul(torch.log10(todB),20)\n",
    "\n",
    "\n",
    "paths= ['denoising2/Rooster_test/4-183487-A.ogg', 'denoised_test_model.wav',\n",
    "        'denoised_test_simple.wav']\n",
    "n_fft=2048\n",
    "stfts = [forSNR(path,n_fft) for path in paths]\n",
    "snr1 = compute_segSNR(stfts[0],stfts[1])\n",
    "snr2 = compute_segSNR(stfts[0],stfts[2])\n"
   ],
   "metadata": {
    "id": "SsNNy6a_gIKa"
   },
   "execution_count": null,
   "outputs": []
  },
  {
   "cell_type": "code",
   "source": [
    "fig = plt.figure()\n",
    "ax1 = fig.add_subplot(1,2,1)\n",
    "ax2 = fig.add_subplot(1,2,2)\n",
    "ax1.plot(snr1)\n",
    "#Plot the noisy signal and the segmental SNRs from the 4 methods. Let the x-axis denote frames and y-axis denote the SNR in dB\n",
    "# plt.legend('avg segmental SNR = %.2f' % torch.mean(snr1))\n",
    "ax1.set_title(\"full model segmental SNR\")\n",
    "ax1.set_xlabel(\"frame\")\n",
    "ax1.set_ylabel(\"dB\")\n",
    "# ax1.axhline(y=torch.mean(snr1),linestyle = '--', label='avg') \n",
    "# ax1.legend()\n",
    "\n",
    "ax2.plot(snr2)\n",
    "#Plot the noisy signal and the segmental SNRs from the 4 methods. Let the x-axis denote frames and y-axis denote the SNR in dB\n",
    "# plt.legend('avg segmental SNR = %.2f' % torch.mean(snr2))\n",
    "ax2.set_title(\"small model segmental SNR\")\n",
    "ax2.set_xlabel(\"frame\")\n",
    "# ax2.axhline(y=torch.mean(snr2),linestyle = '--', label='avg') \n",
    "# ax2.legend()\n",
    "fig.show()"
   ],
   "metadata": {
    "colab": {
     "base_uri": "https://localhost:8080/",
     "height": 472
    },
    "id": "fPy46Gx8i19I",
    "outputId": "7bc8291d-5a68-4b6c-dec3-a99ffec60978"
   },
   "execution_count": null,
   "outputs": [
    {
     "output_type": "display_data",
     "data": {
      "text/plain": [
       "<Figure size 640x480 with 2 Axes>"
      ],
      "image/png": "[encoded data removed]"
     },
     "metadata": {}
    }
   ]
  },
  {
   "cell_type": "code",
   "source": [
    "model = smallModel()\n",
    "model.load_state_dict(torch.load('model.pth'))\n",
    "model.eval()"
   ],
   "metadata": {
    "colab": {
     "base_uri": "https://localhost:8080/"
    },
    "id": "0-PigJZStDPu",
    "outputId": "ac76f1d2-8b8a-4595-89c8-98fbe094a95d"
   },
   "execution_count": null,
   "outputs": [
    {
     "output_type": "execute_result",
     "data": {
      "text/plain": [
       "smallModel(\n",
       "  (early1): Sequential(\n",
       "    (0): Conv2d(12, 32, kernel_size=(7, 7), stride=(1, 1), padding=(3, 3))\n",
       "    (1): ELU(alpha=1.0)\n",
       "  )\n",
       "  (conv2): Conv2d(32, 2, kernel_size=(3, 3), stride=(1, 1), padding=(1, 1))\n",
       "  (stage1): UNet(\n",
       "    (block1): IBlock(\n",
       "      (unit1): Sequential(\n",
       "        (0): Conv2d(32, 32, kernel_size=(3, 3), stride=(1, 1), padding=(1, 1))\n",
       "        (1): ELU(alpha=1.0)\n",
       "      )\n",
       "      (unit2): Sequential(\n",
       "        (0): Conv2d(64, 32, kernel_size=(3, 3), stride=(1, 1), padding=(1, 1))\n",
       "        (1): ELU(alpha=1.0)\n",
       "      )\n",
       "      (unit3): Sequential(\n",
       "        (0): Conv2d(96, 32, kernel_size=(3, 3), stride=(1, 1), padding=(1, 1))\n",
       "        (1): ELU(alpha=1.0)\n",
       "      )\n",
       "      (skip): Conv2d(32, 32, kernel_size=(3, 3), stride=(1, 1), padding=(1, 1))\n",
       "    )\n",
       "    (block2): Sequential(\n",
       "      (0): Conv2d(32, 64, kernel_size=(4, 4), stride=(2, 2), padding=(1, 1))\n",
       "      (1): IBlock(\n",
       "        (unit1): Sequential(\n",
       "          (0): Conv2d(64, 64, kernel_size=(3, 3), stride=(1, 1), padding=(1, 1))\n",
       "          (1): ELU(alpha=1.0)\n",
       "        )\n",
       "        (unit2): Sequential(\n",
       "          (0): Conv2d(128, 64, kernel_size=(3, 3), stride=(1, 1), padding=(1, 1))\n",
       "          (1): ELU(alpha=1.0)\n",
       "        )\n",
       "        (unit3): Sequential(\n",
       "          (0): Conv2d(192, 64, kernel_size=(3, 3), stride=(1, 1), padding=(1, 1))\n",
       "          (1): ELU(alpha=1.0)\n",
       "        )\n",
       "        (skip): Conv2d(64, 64, kernel_size=(3, 3), stride=(1, 1), padding=(1, 1))\n",
       "      )\n",
       "    )\n",
       "    (block3): Sequential(\n",
       "      (0): Conv2d(64, 64, kernel_size=(4, 4), stride=(2, 2), padding=(1, 1))\n",
       "      (1): IBlock(\n",
       "        (unit1): Sequential(\n",
       "          (0): Conv2d(64, 64, kernel_size=(3, 3), stride=(1, 1), padding=(1, 1))\n",
       "          (1): ELU(alpha=1.0)\n",
       "        )\n",
       "        (unit2): Sequential(\n",
       "          (0): Conv2d(128, 64, kernel_size=(3, 3), stride=(1, 1), padding=(1, 1))\n",
       "          (1): ELU(alpha=1.0)\n",
       "        )\n",
       "        (unit3): Sequential(\n",
       "          (0): Conv2d(192, 64, kernel_size=(3, 3), stride=(1, 1), padding=(1, 1))\n",
       "          (1): ELU(alpha=1.0)\n",
       "        )\n",
       "        (skip): Conv2d(64, 64, kernel_size=(3, 3), stride=(1, 1), padding=(1, 1))\n",
       "      )\n",
       "    )\n",
       "    (block4): Sequential(\n",
       "      (0): Conv2d(64, 128, kernel_size=(4, 4), stride=(2, 2), padding=(1, 1))\n",
       "      (1): IBlock(\n",
       "        (unit1): Sequential(\n",
       "          (0): Conv2d(128, 128, kernel_size=(3, 3), stride=(1, 1), padding=(1, 1))\n",
       "          (1): ELU(alpha=1.0)\n",
       "        )\n",
       "        (unit2): Sequential(\n",
       "          (0): Conv2d(256, 128, kernel_size=(3, 3), stride=(1, 1), padding=(1, 1))\n",
       "          (1): ELU(alpha=1.0)\n",
       "        )\n",
       "        (unit3): Sequential(\n",
       "          (0): Conv2d(384, 128, kernel_size=(3, 3), stride=(1, 1), padding=(1, 1))\n",
       "          (1): ELU(alpha=1.0)\n",
       "        )\n",
       "        (skip): Conv2d(128, 128, kernel_size=(3, 3), stride=(1, 1), padding=(1, 1))\n",
       "      )\n",
       "    )\n",
       "    (block5): Sequential(\n",
       "      (0): Conv2d(128, 128, kernel_size=(4, 4), stride=(2, 2), padding=(1, 1))\n",
       "      (1): IBlock(\n",
       "        (unit1): Sequential(\n",
       "          (0): Conv2d(128, 128, kernel_size=(3, 3), stride=(1, 1), padding=(1, 1))\n",
       "          (1): ELU(alpha=1.0)\n",
       "        )\n",
       "        (unit2): Sequential(\n",
       "          (0): Conv2d(256, 128, kernel_size=(3, 3), stride=(1, 1), padding=(1, 1))\n",
       "          (1): ELU(alpha=1.0)\n",
       "        )\n",
       "        (unit3): Sequential(\n",
       "          (0): Conv2d(384, 128, kernel_size=(3, 3), stride=(1, 1), padding=(1, 1))\n",
       "          (1): ELU(alpha=1.0)\n",
       "        )\n",
       "        (skip): Conv2d(128, 128, kernel_size=(3, 3), stride=(1, 1), padding=(1, 1))\n",
       "      )\n",
       "      (2): ConvTranspose2d(128, 128, kernel_size=(4, 4), stride=(2, 2), padding=(1, 1))\n",
       "    )\n",
       "    (block6): decoderBlock(\n",
       "      (model): Sequential(\n",
       "        (0): IBlock(\n",
       "          (unit1): Sequential(\n",
       "            (0): Conv2d(256, 128, kernel_size=(3, 3), stride=(1, 1), padding=(1, 1))\n",
       "            (1): ELU(alpha=1.0)\n",
       "          )\n",
       "          (unit2): Sequential(\n",
       "            (0): Conv2d(384, 128, kernel_size=(3, 3), stride=(1, 1), padding=(1, 1))\n",
       "            (1): ELU(alpha=1.0)\n",
       "          )\n",
       "          (unit3): Sequential(\n",
       "            (0): Conv2d(512, 128, kernel_size=(3, 3), stride=(1, 1), padding=(1, 1))\n",
       "            (1): ELU(alpha=1.0)\n",
       "          )\n",
       "          (skip): Conv2d(256, 128, kernel_size=(3, 3), stride=(1, 1), padding=(1, 1))\n",
       "        )\n",
       "        (1): ConvTranspose2d(128, 64, kernel_size=(4, 4), stride=(2, 2), padding=(1, 1))\n",
       "      )\n",
       "    )\n",
       "    (block7): decoderBlock(\n",
       "      (model): Sequential(\n",
       "        (0): IBlock(\n",
       "          (unit1): Sequential(\n",
       "            (0): Conv2d(128, 128, kernel_size=(3, 3), stride=(1, 1), padding=(1, 1))\n",
       "            (1): ELU(alpha=1.0)\n",
       "          )\n",
       "          (unit2): Sequential(\n",
       "            (0): Conv2d(256, 128, kernel_size=(3, 3), stride=(1, 1), padding=(1, 1))\n",
       "            (1): ELU(alpha=1.0)\n",
       "          )\n",
       "          (unit3): Sequential(\n",
       "            (0): Conv2d(384, 128, kernel_size=(3, 3), stride=(1, 1), padding=(1, 1))\n",
       "            (1): ELU(alpha=1.0)\n",
       "          )\n",
       "          (skip): Conv2d(128, 128, kernel_size=(3, 3), stride=(1, 1), padding=(1, 1))\n",
       "        )\n",
       "        (1): ConvTranspose2d(128, 64, kernel_size=(4, 4), stride=(2, 2), padding=(1, 1))\n",
       "      )\n",
       "    )\n",
       "    (block8): decoderBlock(\n",
       "      (model): Sequential(\n",
       "        (0): IBlock(\n",
       "          (unit1): Sequential(\n",
       "            (0): Conv2d(128, 64, kernel_size=(3, 3), stride=(1, 1), padding=(1, 1))\n",
       "            (1): ELU(alpha=1.0)\n",
       "          )\n",
       "          (unit2): Sequential(\n",
       "            (0): Conv2d(192, 64, kernel_size=(3, 3), stride=(1, 1), padding=(1, 1))\n",
       "            (1): ELU(alpha=1.0)\n",
       "          )\n",
       "          (unit3): Sequential(\n",
       "            (0): Conv2d(256, 64, kernel_size=(3, 3), stride=(1, 1), padding=(1, 1))\n",
       "            (1): ELU(alpha=1.0)\n",
       "          )\n",
       "          (skip): Conv2d(128, 64, kernel_size=(3, 3), stride=(1, 1), padding=(1, 1))\n",
       "        )\n",
       "        (1): ConvTranspose2d(64, 32, kernel_size=(4, 4), stride=(2, 2), padding=(1, 1))\n",
       "      )\n",
       "    )\n",
       "    (block9): decoderBlock(\n",
       "      (model): IBlock(\n",
       "        (unit1): Sequential(\n",
       "          (0): Conv2d(64, 32, kernel_size=(3, 3), stride=(1, 1), padding=(1, 1))\n",
       "          (1): ELU(alpha=1.0)\n",
       "        )\n",
       "        (unit2): Sequential(\n",
       "          (0): Conv2d(96, 32, kernel_size=(3, 3), stride=(1, 1), padding=(1, 1))\n",
       "          (1): ELU(alpha=1.0)\n",
       "        )\n",
       "        (unit3): Sequential(\n",
       "          (0): Conv2d(128, 32, kernel_size=(3, 3), stride=(1, 1), padding=(1, 1))\n",
       "          (1): ELU(alpha=1.0)\n",
       "        )\n",
       "        (skip): Conv2d(64, 32, kernel_size=(3, 3), stride=(1, 1), padding=(1, 1))\n",
       "      )\n",
       "    )\n",
       "  )\n",
       ")"
      ]
     },
     "metadata": {},
     "execution_count": 12
    }
   ]
  },
  {
   "cell_type": "code",
   "source": [
    "plane= '1-53467-A.ogg'\n",
    "rooster= '2-71162-A.ogg'\n",
    "\n",
    "plane_sample, fs = librosa.load(plane)\n",
    "rooster_sample, _ = librosa.load(rooster)\n",
    "# plane_sample = plane_sample * max(rooster_sample)/max(plane_sample)\n",
    "noisy = plane_sample + rooster_sample\n",
    "sf.write(path, noisy, fs)\n"
   ],
   "metadata": {
    "id": "OzpqyI9XqygJ"
   },
   "execution_count": null,
   "outputs": []
  }
 ],
 "metadata": {
  "accelerator": "GPU",
  "colab": {
   "provenance": []
  },
  "gpuClass": "standard",
  "kernelspec": {
   "display_name": "Python 3",
   "name": "python3"
  },
  "language_info": {
   "name": "python"
  }
 },
 "nbformat": 4,
 "nbformat_minor": 0
}
